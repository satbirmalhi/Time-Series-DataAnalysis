{
 "cells": [
  {
   "cell_type": "code",
   "execution_count": null,
   "id": "da5568f3",
   "metadata": {},
   "outputs": [],
   "source": [
    "import pandas as pd\n",
    "import numpy as np\n",
    "from statsmodels.tsa.stattools import acf, pacf\n",
    "from statsmodels.graphics.tsaplots import plot_acf, plot_pacf\n"
   ]
  },
  {
   "cell_type": "code",
   "execution_count": null,
   "id": "b559bf74",
   "metadata": {},
   "outputs": [],
   "source": [
    "df =pd.DataFrame({\"a\":[13,5,11,12,9,12,14,7,15]})\n"
   ]
  },
  {
   "cell_type": "code",
   "execution_count": null,
   "id": "8c24393e",
   "metadata": {},
   "outputs": [],
   "source": [
    "\n",
    "#ACF\n",
    "#These codes will give us a array of correlation coefficient bewtweeen lags: \n",
    "array = acf(df[\"a\"])\n",
    "#Plot_ACF: These codes will give us a plot of the above array: \n",
    "plot_acf(df[\"a\"]])"
   ]
  },
  {
   "cell_type": "code",
   "execution_count": null,
   "id": "68701fb4",
   "metadata": {},
   "outputs": [],
   "source": [
    "#PACF\n",
    "#These codes will give us a array of correlation coefficient bewtweeen lags: \n",
    "array = pacf(df[\"a\"],lags=3)\n",
    "\n",
    "#These codes will give us a plot of the above array: \n",
    "plot_pacf(df[\"a\"], lags=3)\n",
    "\n",
    "#Now repeat the above codes with actual stock market data."
   ]
  },
  {
   "cell_type": "code",
   "execution_count": null,
   "id": "1354619f",
   "metadata": {},
   "outputs": [],
   "source": []
  }
 ],
 "metadata": {
  "kernelspec": {
   "display_name": "Python 3",
   "language": "python",
   "name": "python3"
  },
  "language_info": {
   "codemirror_mode": {
    "name": "ipython",
    "version": 3
   },
   "file_extension": ".py",
   "mimetype": "text/x-python",
   "name": "python",
   "nbconvert_exporter": "python",
   "pygments_lexer": "ipython3",
   "version": "3.8.8"
  }
 },
 "nbformat": 4,
 "nbformat_minor": 5
}
