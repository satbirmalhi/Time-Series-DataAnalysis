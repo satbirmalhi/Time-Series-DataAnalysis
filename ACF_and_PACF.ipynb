{
 "cells": [
  {
   "cell_type": "code",
   "execution_count": 1,
   "id": "a646b0db",
   "metadata": {},
   "outputs": [],
   "source": [
    "import pandas as pd\n",
    "import numpy as np\n",
    "from statsmodels.tsa.stattools import acf, pacf\n",
    "from statsmodels.graphics.tsaplots import plot_acf, plot_pacf\n"
   ]
  },
  {
   "cell_type": "code",
   "execution_count": 2,
   "id": "d154003d",
   "metadata": {},
   "outputs": [],
   "source": [
    "df =pd.DataFrame({\"a\":[13,5,11,12,9,12,14,7,15]})\n"
   ]
  },
  {
   "cell_type": "code",
   "execution_count": null,
   "id": "f5beee44",
   "metadata": {},
   "outputs": [],
   "source": [
    "\n",
    "#ACF\n",
    "#These codes will give us a array of correlation coefficient bewtweeen lags: \n",
    "array = acf(df[\"a\"])\n",
    "#Plot_ACF: These codes will give us a plot of the above array: \n",
    "plot_acf(df[\"a\"]])"
   ]
  },
  {
   "cell_type": "code",
   "execution_count": 4,
   "id": "d24835a9",
   "metadata": {},
   "outputs": [
    {
     "ename": "TypeError",
     "evalue": "pacf() got an unexpected keyword argument 'lags'",
     "output_type": "error",
     "traceback": [
      "\u001b[0;31m---------------------------------------------------------------------------\u001b[0m",
      "\u001b[0;31mTypeError\u001b[0m                                 Traceback (most recent call last)",
      "\u001b[0;32m<ipython-input-4-a0f4936442fe>\u001b[0m in \u001b[0;36m<module>\u001b[0;34m\u001b[0m\n\u001b[1;32m      1\u001b[0m \u001b[0;31m#PACF\u001b[0m\u001b[0;34m\u001b[0m\u001b[0;34m\u001b[0m\u001b[0;34m\u001b[0m\u001b[0m\n\u001b[1;32m      2\u001b[0m \u001b[0;31m#These codes will give us a array of correlation coefficient bewtweeen lags:\u001b[0m\u001b[0;34m\u001b[0m\u001b[0;34m\u001b[0m\u001b[0;34m\u001b[0m\u001b[0m\n\u001b[0;32m----> 3\u001b[0;31m \u001b[0marray\u001b[0m \u001b[0;34m=\u001b[0m \u001b[0mpacf\u001b[0m\u001b[0;34m(\u001b[0m\u001b[0mdf\u001b[0m\u001b[0;34m[\u001b[0m\u001b[0;34m\"a\"\u001b[0m\u001b[0;34m]\u001b[0m\u001b[0;34m,\u001b[0m\u001b[0mlags\u001b[0m\u001b[0;34m=\u001b[0m\u001b[0;36m3\u001b[0m\u001b[0;34m)\u001b[0m\u001b[0;34m\u001b[0m\u001b[0;34m\u001b[0m\u001b[0m\n\u001b[0m\u001b[1;32m      4\u001b[0m \u001b[0;34m\u001b[0m\u001b[0m\n\u001b[1;32m      5\u001b[0m \u001b[0;31m#These codes will give us a plot of the above array:\u001b[0m\u001b[0;34m\u001b[0m\u001b[0;34m\u001b[0m\u001b[0;34m\u001b[0m\u001b[0m\n",
      "\u001b[0;31mTypeError\u001b[0m: pacf() got an unexpected keyword argument 'lags'"
     ]
    }
   ],
   "source": [
    "#PACF\n",
    "#These codes will give us a array of correlation coefficient bewtweeen lags: \n",
    "array = pacf(df[\"a\"],lags=3)\n",
    "\n",
    "#These codes will give us a plot of the above array: \n",
    "plot_pacf(df[\"a\"], lags=3)\n",
    "\n",
    "#Now repeat the above codes with actual stock market data."
   ]
  },
  {
   "cell_type": "code",
   "execution_count": null,
   "id": "b91cec2e",
   "metadata": {},
   "outputs": [],
   "source": []
  }
 ],
 "metadata": {
  "kernelspec": {
   "display_name": "Python 3",
   "language": "python",
   "name": "python3"
  },
  "language_info": {
   "codemirror_mode": {
    "name": "ipython",
    "version": 3
   },
   "file_extension": ".py",
   "mimetype": "text/x-python",
   "name": "python",
   "nbconvert_exporter": "python",
   "pygments_lexer": "ipython3",
   "version": "3.8.8"
  }
 },
 "nbformat": 4,
 "nbformat_minor": 5
}
