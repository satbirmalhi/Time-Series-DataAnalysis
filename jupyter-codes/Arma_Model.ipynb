{
 "cells": [
  {
   "cell_type": "code",
   "execution_count": 1,
   "id": "bd481039",
   "metadata": {},
   "outputs": [],
   "source": [
    "import pandas as pd\n",
    "import numpy as np\n",
    "import matplotlib.pyplot as plt\n",
    "from datetime import datetime\n",
    "from datetime import timedelta\n",
    "from pandas.plotting import register_matplotlib_converters\n",
    "from statsmodels.tsa.stattools import acf, pacf\n",
    "from statsmodels.tsa.arima_model import ARMA\n",
    "register_matplotlib_converters()\n",
    "from time import time\n"
   ]
  },
  {
   "cell_type": "code",
   "execution_count": 2,
   "id": "547911b7",
   "metadata": {},
   "outputs": [],
   "source": [
    "def parser(s):return datetime.strptime(s, '%Y-%m-%d')\n"
   ]
  },
  {
   "cell_type": "code",
   "execution_count": 5,
   "id": "d2986218",
   "metadata": {
    "scrolled": true
   },
   "outputs": [],
   "source": [
    "df = pd.read_csv('./Data-CSVfiles/ice_cream.csv', parse_dates=[0], index_col=0, squeeze=True, date_parser=parser)\n"
   ]
  },
  {
   "cell_type": "code",
   "execution_count": null,
   "id": "968a0714",
   "metadata": {},
   "outputs": [],
   "source": [
    "df = df.asfreq(pd.infer_freq(df.index))\n"
   ]
  },
  {
   "cell_type": "code",
   "execution_count": 6,
   "id": "c247c36b",
   "metadata": {},
   "outputs": [
    {
     "data": {
      "text/plain": [
       "DATE\n",
       "1972-01-01     59.9622\n",
       "1972-02-01     67.0605\n",
       "1972-03-01     74.2350\n",
       "1972-04-01     78.1120\n",
       "1972-05-01     84.7636\n",
       "                ...   \n",
       "2019-09-01    100.1741\n",
       "2019-10-01     90.1684\n",
       "2019-11-01     79.7223\n",
       "2019-12-01     75.7094\n",
       "2020-01-01     83.6290\n",
       "Name: IPN31152N, Length: 577, dtype: float64"
      ]
     },
     "execution_count": 6,
     "metadata": {},
     "output_type": "execute_result"
    }
   ],
   "source": [
    "df"
   ]
  },
  {
   "cell_type": "code",
   "execution_count": null,
   "id": "6de1ca12",
   "metadata": {},
   "outputs": [],
   "source": []
  }
 ],
 "metadata": {
  "kernelspec": {
   "display_name": "Python 3 (ipykernel)",
   "language": "python",
   "name": "python3"
  },
  "language_info": {
   "codemirror_mode": {
    "name": "ipython",
    "version": 3
   },
   "file_extension": ".py",
   "mimetype": "text/x-python",
   "name": "python",
   "nbconvert_exporter": "python",
   "pygments_lexer": "ipython3",
   "version": "3.9.7"
  }
 },
 "nbformat": 4,
 "nbformat_minor": 5
}
