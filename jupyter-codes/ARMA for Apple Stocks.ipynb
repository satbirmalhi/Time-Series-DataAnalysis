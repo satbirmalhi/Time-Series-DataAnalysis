{
 "cells": [
  {
   "cell_type": "code",
   "execution_count": null,
   "id": "c7c7f396",
   "metadata": {},
   "outputs": [],
   "source": [
    "#libraries\n",
    "\n",
    "import pandas as pd\n",
    "import numpy as np\n",
    "import matplotlib.pyplot as plt\n",
    "from datetime import datetime\n",
    "from datetime import timedelta\n",
    "from pandas.plotting import register_matplotlib_converters\n",
    "from statsmodels.tsa.stattools import acf, pacf\n",
    "from statsmodels.graphics.tsaplots import plot_acf, plot_pacf\n",
    "from statsmodels.tsa.arima_model import ARMA\n",
    "register_matplotlib_converters()\n",
    "from time import time\n"
   ]
  },
  {
   "cell_type": "code",
   "execution_count": null,
   "id": "fbd7fc2f",
   "metadata": {},
   "outputs": [],
   "source": [
    "\n",
    "#assign start and end dates\n",
    "start_date=datetime(2015,1,1)\n",
    "end_date=datetime(2021,9,9)\n",
    "#populate the dataframe with data from the Yahoo Website\n",
    "df = web.DataReader('AAPL', 'yahoo', start=start_date, end=end_date)\n"
   ]
  },
  {
   "cell_type": "code",
   "execution_count": null,
   "id": "cf80404e",
   "metadata": {},
   "outputs": [],
   "source": [
    "df.to_csv('./Data-CSVfiles/Name_file.csv')"
   ]
  },
  {
   "cell_type": "code",
   "execution_count": null,
   "id": "e9e8c359",
   "metadata": {},
   "outputs": [],
   "source": [
    "#infer the frequency of the data\n",
    "df = df.asfreq(pd.infer_freq(df.index))\n"
   ]
  },
  {
   "cell_type": "code",
   "execution_count": null,
   "id": "d2c7b814",
   "metadata": {},
   "outputs": [],
   "source": [
    "df=pd.read_csv('./Name_file.csv', index_col=0)"
   ]
  }
 ],
 "metadata": {
  "kernelspec": {
   "display_name": "Python 3",
   "language": "python",
   "name": "python3"
  },
  "language_info": {
   "codemirror_mode": {
    "name": "ipython",
    "version": 3
   },
   "file_extension": ".py",
   "mimetype": "text/x-python",
   "name": "python",
   "nbconvert_exporter": "python",
   "pygments_lexer": "ipython3",
   "version": "3.8.8"
  }
 },
 "nbformat": 4,
 "nbformat_minor": 5
}
